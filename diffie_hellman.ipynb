{
 "cells": [
  {
   "cell_type": "code",
   "execution_count": 8,
   "metadata": {
    "cell_type": "solution"
   },
   "outputs": [],
   "source": [
    "from fastecdsa.curve import secp256k1 as curve\n",
    "import fastecdsa.keys as keys\n",
    "\n",
    "class User(object):\n",
    "    def __init__(self):\n",
    "        # generate a private key in [1, N-1] where N is \n",
    "        # the number of points on the elliptic curve\n",
    "        self.__private_key = keys.gen_private_key(curve=curve)\n",
    "\n",
    "    def dh(self, public_key):\n",
    "        # Diffie Hellman key exchange\n",
    "        # public_key is here the public key of the counterparty\n",
    "        return self.__private_key * public_key\n",
    "    \n",
    "    @property\n",
    "    def public_key(self):\n",
    "        # the public key is not(!) a random number\n",
    "        # the public key is the $k$th point on the curve\n",
    "        # where k is the the private key\n",
    "        return self.__private_key * curve.G\n",
    "    "
   ]
  },
  {
   "cell_type": "code",
   "execution_count": 9,
   "metadata": {},
   "outputs": [
    {
     "name": "stdout",
     "output_type": "stream",
     "text": [
      "X: 0xcb414a3d5ac01c30b2d4f32a892962c4ad3a39346e6f4ab3e69ddeaaf93ea161\n",
      "Y: 0xb3d94d1677d1c930d98e5a0a550adbea621dd26b808cb76ec069a33f5a03ebc6\n",
      "(On curve <secp256k1>)\n",
      "X: 0xcb414a3d5ac01c30b2d4f32a892962c4ad3a39346e6f4ab3e69ddeaaf93ea161\n",
      "Y: 0xb3d94d1677d1c930d98e5a0a550adbea621dd26b808cb76ec069a33f5a03ebc6\n",
      "(On curve <secp256k1>)\n"
     ]
    }
   ],
   "source": [
    "# the private key is hidden (as much as you can hide within Python) \n",
    "A=User()\n",
    "B=User()\n",
    "\n",
    "print(A.dh(B.public_key))\n",
    "print(B.dh(A.public_key))\n",
    "\n",
    "# an evil third might be able to spot that A computes a key using the public key of B\n",
    "#                                      and B computes a key using the public key of A\n",
    "\n",
    "# However, it's impossible for the evil third party to compute the shared key of A and B\n"
   ]
  },
  {
   "cell_type": "code",
   "execution_count": null,
   "metadata": {},
   "outputs": [],
   "source": [
    "\n",
    "class Block(object)\n",
    "    def "
   ]
  }
 ],
 "metadata": {
  "kernelspec": {
   "display_name": "Python 3",
   "language": "python",
   "name": "python3"
  },
  "language_info": {
   "codemirror_mode": {
    "name": "ipython",
    "version": 3
   },
   "file_extension": ".py",
   "mimetype": "text/x-python",
   "name": "python",
   "nbconvert_exporter": "python",
   "pygments_lexer": "ipython3",
   "version": "3.6.8"
  }
 },
 "nbformat": 4,
 "nbformat_minor": 2
}
