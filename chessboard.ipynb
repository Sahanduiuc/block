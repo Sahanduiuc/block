{
 "cells": [
  {
   "cell_type": "markdown",
   "metadata": {},
   "source": [
    "https://en.wikipedia.org/wiki/Wheat_and_chessboard_problem"
   ]
  },
  {
   "cell_type": "markdown",
   "metadata": {},
   "source": [
    "Let's assume the chessboard has $n$ fields. To keep it simple $n=4$. Then the solution is $$1 + 2 + 4 + 8 = 2^0 + 2^1 + 2^2 + 2^3 = 1111_{2} = 2^4-1$$"
   ]
  },
  {
   "cell_type": "markdown",
   "metadata": {},
   "source": [
    "A chessboard has indeed $64$ fields. Assume that $1000$ gram of rice are approximately $50000=5\\times 10^4$ corns. Assume furthermore that a containership can transport 20000 containers each filled with up to $40$ tons of rice. How many containerships would you need to transport rice?"
   ]
  },
  {
   "cell_type": "code",
   "execution_count": 8,
   "metadata": {
    "cell_type": "solution"
   },
   "outputs": [
    {
     "data": {
      "text/plain": [
       "461168.6018427388"
      ]
     },
     "execution_count": 8,
     "metadata": {},
     "output_type": "execute_result"
    }
   ],
   "source": [
    "corns = 2**64-1\n",
    "# we assume 20000 containers per ship, each filled with 40 tons of rice\n",
    "corns_per_ship = 20000*40*1000*50000.0\n",
    "corns/corns_per_ship"
   ]
  },
  {
   "cell_type": "markdown",
   "metadata": {},
   "source": [
    "Estimate $2^{64}$ by hand.  "
   ]
  },
  {
   "cell_type": "markdown",
   "metadata": {
    "cell_type": "solution"
   },
   "source": [
    "$$2^{64} = 2^{{10}^{6}} \\times 2^4 \\approx 10^{3^6} \\times 16 = 10^{19} \\times 1.6$$  "
   ]
  }
 ],
 "metadata": {
  "kernelspec": {
   "display_name": "Python 3",
   "language": "python",
   "name": "python3"
  },
  "language_info": {
   "codemirror_mode": {
    "name": "ipython",
    "version": 3
   },
   "file_extension": ".py",
   "mimetype": "text/x-python",
   "name": "python",
   "nbconvert_exporter": "python",
   "pygments_lexer": "ipython3",
   "version": "3.6.8"
  }
 },
 "nbformat": 4,
 "nbformat_minor": 2
}
