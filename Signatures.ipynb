{
 "cells": [
  {
   "cell_type": "code",
   "execution_count": 18,
   "metadata": {},
   "outputs": [],
   "source": [
    "from fastecdsa.curve import secp256k1 as curve"
   ]
  },
  {
   "cell_type": "code",
   "execution_count": 19,
   "metadata": {},
   "outputs": [
    {
     "data": {
      "text/plain": [
       "X: 0x79be667ef9dcbbac55a06295ce870b07029bfcdb2dce28d959f2815b16f81798\n",
       "Y: 0x483ada7726a3c4655da4fbfc0e1108a8fd17b448a68554199c47d08ffb10d4b8\n",
       "(On curve <secp256k1>)"
      ]
     },
     "execution_count": 19,
     "metadata": {},
     "output_type": "execute_result"
    }
   ],
   "source": [
    "# The generating point G\n",
    "curve.G"
   ]
  },
  {
   "cell_type": "code",
   "execution_count": 20,
   "metadata": {},
   "outputs": [
    {
     "data": {
      "text/plain": [
       "0"
      ]
     },
     "execution_count": 20,
     "metadata": {},
     "output_type": "execute_result"
    }
   ],
   "source": [
    "# The coefficient a in y^2 = x^3 + ax + b\n",
    "curve.a"
   ]
  },
  {
   "cell_type": "code",
   "execution_count": 21,
   "metadata": {},
   "outputs": [
    {
     "data": {
      "text/plain": [
       "7"
      ]
     },
     "execution_count": 21,
     "metadata": {},
     "output_type": "execute_result"
    }
   ],
   "source": [
    "# The coefficient b in y^2 = x^3 + ax + b\n",
    "curve.b"
   ]
  },
  {
   "cell_type": "code",
   "execution_count": 705,
   "metadata": {},
   "outputs": [
    {
     "data": {
      "text/plain": [
       "115792089237316195423570985008687907853269984665640564039457584007908834671663"
      ]
     },
     "execution_count": 705,
     "metadata": {},
     "output_type": "execute_result"
    }
   ],
   "source": [
    "# The number of elments in the underlying Galois field\n",
    "curve.p"
   ]
  },
  {
   "cell_type": "code",
   "execution_count": 704,
   "metadata": {},
   "outputs": [
    {
     "data": {
      "text/plain": [
       "115792089237316195423570985008687907852837564279074904382605163141518161494337"
      ]
     },
     "execution_count": 704,
     "metadata": {},
     "output_type": "execute_result"
    }
   ],
   "source": [
    "# The number of solutions (including the neutral element at infinity)\n",
    "curve.q"
   ]
  },
  {
   "cell_type": "code",
   "execution_count": 714,
   "metadata": {},
   "outputs": [
    {
     "data": {
      "text/plain": [
       "True"
      ]
     },
     "execution_count": 714,
     "metadata": {},
     "output_type": "execute_result"
    }
   ],
   "source": [
    "from fastecdsa.curve import secp256k1 as curve\n",
    "import fastecdsa.keys as keys\n",
    "from mod import Mod\n",
    "\n",
    "# every message needs to be hashed into a number\n",
    "def encrypt_string(hash_str):\n",
    "    return int(hashlib.sha256(hash_str.encode()).hexdigest(), 16)\n",
    "\n",
    "# The private key is a random number from [1, p - 1] where\n",
    "# p is the order of the underlying Galois field\n",
    "private_key = keys.gen_private_key(curve)\n",
    "\n",
    "# The public key is \n",
    "public_key = curve.G*private_key\n",
    "\n",
    "# There are n solutions on the elliptic curve \n",
    "# including the point at \"infinity\"\n",
    "n = curve.q\n",
    "\n",
    "# We send the clear message...\n",
    "message = \"I love this lecture\"\n",
    "\n",
    "# nonce\n",
    "i = keys.gen_private_key(curve)\n",
    "\n",
    "# nonce on elliptic curve\n",
    "P = curve.G*i\n",
    "\n",
    "# compute the signature\n",
    "r = Mod(P.x,n)\n",
    "inv_i = Mod(i,n).inverse()\n",
    "s = (inv_i*(encrypt_string(message)+r*private_key))._value\n",
    "# The sender transmits (r,s), the clear message and his public key\n",
    "# s depends on the private key and the hashcode of the message. \n",
    "# However it is not possible to extract the private key from s\n",
    "\n",
    "# The receiver can now check whether the message is consistent\n",
    "# This simple test returns False if\n",
    "# - the text of the message has been changed.\n",
    "# - if the sent public_key is consistent with  the private key \n",
    "#   of the sender, without ever revealing the private key\n",
    "\n",
    "# check the signature\n",
    "w = Mod(s,n).inverse()\n",
    "u1 = encrypt_string(message)*w\n",
    "u2 = r*w\n",
    "\n",
    "# addition of two residue classes and multiplication with Point\n",
    "(curve.G*u1 + public_key*u2).x == r"
   ]
  },
  {
   "cell_type": "code",
   "execution_count": 719,
   "metadata": {},
   "outputs": [
    {
     "name": "stdout",
     "output_type": "stream",
     "text": [
      "92638279574439449367469751620279883526129614094420035354557226216594551995720\n",
      "56150953375323829929699404540178501317383477984004211069133248276172762035017\n",
      "X: 0xed9671d3d1e3b8ee77a887517a9a019829354474a8e080ca1524712f53153da1\n",
      "Y: 0x268d62b89f2b0ad04a2e8a3f2d60c75c138d74c7ea387098e9537d0add89e39e\n",
      "(On curve <secp256k1>)\n"
     ]
    }
   ],
   "source": [
    "# We can hide a lot of the complexity\n",
    "from fastecdsa.curve import secp256k1 as curve\n",
    "import fastecdsa.keys as keys\n",
    "from hashlib import sha256\n",
    "\n",
    "private_key = keys.gen_private_key(curve)\n",
    "public_key = keys.get_public_key(private_key, curve)\n",
    "\n",
    "# We send the clear message...\n",
    "message = \"I love this lecture\"\n",
    "\n",
    "# standard signature, returns two integers\n",
    "r, s = ecdsa.sign(message, private_key, curve, hashfunc=sha256)\n",
    "\n",
    "# should return True as the signature we just generated is valid.\n",
    "valid = ecdsa.verify((r, s), message, public_key, curve, hashfunc=sha256)\n",
    "assert valid\n",
    "\n",
    "# output the signature\n",
    "print(r)\n",
    "print(s)\n",
    "print(public_key)"
   ]
  },
  {
   "cell_type": "code",
   "execution_count": null,
   "metadata": {},
   "outputs": [],
   "source": []
  }
 ],
 "metadata": {
  "kernelspec": {
   "display_name": "Python 3",
   "language": "python",
   "name": "python3"
  },
  "language_info": {
   "codemirror_mode": {
    "name": "ipython",
    "version": 3
   },
   "file_extension": ".py",
   "mimetype": "text/x-python",
   "name": "python",
   "nbconvert_exporter": "python",
   "pygments_lexer": "ipython3",
   "version": "3.6.8"
  }
 },
 "nbformat": 4,
 "nbformat_minor": 2
}
